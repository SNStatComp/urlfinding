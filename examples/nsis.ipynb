{
 "cells": [
  {
   "cell_type": "markdown",
   "metadata": {},
   "source": [
    "# Example: find websites of National Statistical Institutes (NSIs) "
   ]
  },
  {
   "cell_type": "code",
   "execution_count": null,
   "metadata": {},
   "outputs": [],
   "source": [
    "# Note: you need to have installed the urlfinding module in Anaconda, see Readme.txt\n",
    "import urlfinding as uf\n",
    "import pandas as pd\n",
    "\n",
    "# You can ignore a FutureWarning about sklearn.metrics.classification being deprecated "
   ]
  },
  {
   "cell_type": "code",
   "execution_count": 2,
   "metadata": {},
   "outputs": [
    {
     "data": {
      "text/html": [
       "<div>\n",
       "<style scoped>\n",
       "    .dataframe tbody tr th:only-of-type {\n",
       "        vertical-align: middle;\n",
       "    }\n",
       "\n",
       "    .dataframe tbody tr th {\n",
       "        vertical-align: top;\n",
       "    }\n",
       "\n",
       "    .dataframe thead th {\n",
       "        text-align: right;\n",
       "    }\n",
       "</style>\n",
       "<table border=\"1\" class=\"dataframe\">\n",
       "  <thead>\n",
       "    <tr style=\"text-align: right;\">\n",
       "      <th></th>\n",
       "      <th>id</th>\n",
       "      <th>tradename</th>\n",
       "      <th>legalname</th>\n",
       "      <th>address</th>\n",
       "      <th>postalcode</th>\n",
       "      <th>locality</th>\n",
       "      <th>country</th>\n",
       "      <th>phone</th>\n",
       "    </tr>\n",
       "  </thead>\n",
       "  <tbody>\n",
       "    <tr>\n",
       "      <th>0</th>\n",
       "      <td>1</td>\n",
       "      <td>Danmarks Statistik</td>\n",
       "      <td>Danmarks Statistik</td>\n",
       "      <td>Sejrøgade 11, Postboks 2550</td>\n",
       "      <td>2100</td>\n",
       "      <td>KØBENHAVN Ø</td>\n",
       "      <td>Denmark</td>\n",
       "      <td>(45) 3917 3917</td>\n",
       "    </tr>\n",
       "    <tr>\n",
       "      <th>1</th>\n",
       "      <td>2</td>\n",
       "      <td>Statistics Estonia</td>\n",
       "      <td>Statistics Estonia</td>\n",
       "      <td>Tatari 51</td>\n",
       "      <td>10134</td>\n",
       "      <td>Tallinn</td>\n",
       "      <td>Estonia</td>\n",
       "      <td>(372) 6259 300</td>\n",
       "    </tr>\n",
       "    <tr>\n",
       "      <th>2</th>\n",
       "      <td>3</td>\n",
       "      <td>INSEE, Direction générale</td>\n",
       "      <td>INSEE, Direction générale</td>\n",
       "      <td>88 avenue Verdier - CS 70058</td>\n",
       "      <td>92541</td>\n",
       "      <td>Montrouge Cedex.</td>\n",
       "      <td>France</td>\n",
       "      <td>(33) 1 87 69 50 00</td>\n",
       "    </tr>\n",
       "    <tr>\n",
       "      <th>3</th>\n",
       "      <td>4</td>\n",
       "      <td>ISTAT</td>\n",
       "      <td>Istituto Nazionale di Statistica</td>\n",
       "      <td>Via Cesare Balbo</td>\n",
       "      <td>184</td>\n",
       "      <td>Roma</td>\n",
       "      <td>Italy</td>\n",
       "      <td>(39) 06 4673 2243-2244</td>\n",
       "    </tr>\n",
       "    <tr>\n",
       "      <th>4</th>\n",
       "      <td>5</td>\n",
       "      <td>Statistical Service of Cyprus</td>\n",
       "      <td>Statistical Service of Cyprus</td>\n",
       "      <td>Michalakis Karaolis street</td>\n",
       "      <td>1444</td>\n",
       "      <td>Nicosia</td>\n",
       "      <td>Cyprus</td>\n",
       "      <td>(357) 22 602 102</td>\n",
       "    </tr>\n",
       "  </tbody>\n",
       "</table>\n",
       "</div>"
      ],
      "text/plain": [
       "   id                      tradename                         legalname  \\\n",
       "0   1             Danmarks Statistik                Danmarks Statistik   \n",
       "1   2             Statistics Estonia                Statistics Estonia   \n",
       "2   3      INSEE, Direction générale         INSEE, Direction générale   \n",
       "3   4                          ISTAT  Istituto Nazionale di Statistica   \n",
       "4   5  Statistical Service of Cyprus     Statistical Service of Cyprus   \n",
       "\n",
       "                        address postalcode          locality  country  \\\n",
       "0   Sejrøgade 11, Postboks 2550       2100       KØBENHAVN Ø  Denmark   \n",
       "1                     Tatari 51      10134           Tallinn  Estonia   \n",
       "2  88 avenue Verdier - CS 70058      92541  Montrouge Cedex.   France   \n",
       "3              Via Cesare Balbo        184              Roma    Italy   \n",
       "4    Michalakis Karaolis street       1444           Nicosia   Cyprus   \n",
       "\n",
       "                    phone  \n",
       "0          (45) 3917 3917  \n",
       "1          (372) 6259 300  \n",
       "2      (33) 1 87 69 50 00  \n",
       "3  (39) 06 4673 2243-2244  \n",
       "4        (357) 22 602 102  "
      ]
     },
     "execution_count": 2,
     "metadata": {},
     "output_type": "execute_result"
    }
   ],
   "source": [
    "# Input data:\n",
    "nsis = pd.read_csv('data/NSIs.csv', delimiter = ';')\n",
    "nsis.head()"
   ]
  },
  {
   "cell_type": "markdown",
   "metadata": {},
   "source": [
    "## Search via Google API:"
   ]
  },
  {
   "cell_type": "code",
   "execution_count": null,
   "metadata": {},
   "outputs": [],
   "source": [
    "# Note1: This takes a while (5 to 10 minute for this example).\n",
    "#        For each record 6 queries are fired using an idle time in between.\n",
    "#        During execution the search function displays which record is being processed.\n",
    "# Note2: if you see a 403 error, you reached the maximum number of google queries for your API key.\n",
    "# Note3: As documented in the API in the readme this search function starts at the next record from the last session. \n",
    "#        Hence if you want to start from scratch either remove the maxrownum file or set the number in that file to 0 \n",
    "\n",
    "base_file    = './data/NSIs.csv'\n",
    "googleconfig = './config/config.yml'\n",
    "blacklist    = './data/blacklist.txt'\n",
    "nrows        = len(nsis)                         # maximum number of rows to search \n",
    "\n",
    "uf.search(base_file, googleconfig, blacklist, nrows)\n"
   ]
  },
  {
   "cell_type": "markdown",
   "metadata": {},
   "source": [
    "## Extract features from the search results:"
   ]
  },
  {
   "cell_type": "code",
   "execution_count": null,
   "metadata": {},
   "outputs": [],
   "source": [
    "date       = '20200115'\n",
    "data_files = ['./data/20200115searchResult.csv'] # change this into the file created at the previous step\n",
    "                                                 # in a multi search session you can use multiple searchResult files here\n",
    "blacklist  = './data/blacklist.txt'\n",
    "\n",
    "uf.extract(date, data_files, blacklist)"
   ]
  },
  {
   "cell_type": "markdown",
   "metadata": {},
   "source": [
    "## Predict urls:"
   ]
  },
  {
   "cell_type": "code",
   "execution_count": null,
   "metadata": {},
   "outputs": [],
   "source": [
    "# Note: you might get a UserWarning about different versions of pickle estimators, which you can safely ignore.\n",
    "\n",
    "model_file   = './data/model.pkl'\n",
    "feature_file = './data/20200115features_agg.csv'\n",
    "base_file    = './data/NSIs.csv'\n",
    "\n",
    "uf.predict(feature_file, model_file, base_file)"
   ]
  },
  {
   "cell_type": "code",
   "execution_count": null,
   "metadata": {
    "scrolled": false
   },
   "outputs": [],
   "source": [
    "# All results:\n",
    "df = pd.read_csv('data/NSIs_url.csv', delimiter = ';')\n",
    "df[['tradename', 'country', 'host', 'eqPred', 'pTrue']]\n",
    "\n",
    "# The column host contains the predicted domain. At the moment only two level domains are supported.\n",
    "# The column eqPred indicates whether the predicted url is the right one.\n",
    "# The column pTrue shows the confidence of the prediction."
   ]
  },
  {
   "cell_type": "code",
   "execution_count": null,
   "metadata": {},
   "outputs": [],
   "source": [
    "# Search results may vary depending on date and location from where you search.\n",
    "# Here are the previously saved search results from a session executed on 20200115 from Statistics Netherlands:\n",
    "df = pd.read_csv('data/NSIs_url_20200115.csv', delimiter = ';')\n",
    "df[['tradename', 'country', 'host', 'eqPred', 'pTrue']]\n"
   ]
  },
  {
   "cell_type": "markdown",
   "metadata": {},
   "source": [
    "## Train a model:"
   ]
  },
  {
   "cell_type": "code",
   "execution_count": null,
   "metadata": {},
   "outputs": [],
   "source": [
    "# This will be added later"
   ]
  }
 ],
 "metadata": {
  "kernelspec": {
   "display_name": "Python 3",
   "language": "python",
   "name": "python3"
  },
  "language_info": {
   "codemirror_mode": {
    "name": "ipython",
    "version": 3
   },
   "file_extension": ".py",
   "mimetype": "text/x-python",
   "name": "python",
   "nbconvert_exporter": "python",
   "pygments_lexer": "ipython3",
   "version": "3.7.3"
  }
 },
 "nbformat": 4,
 "nbformat_minor": 4
}
